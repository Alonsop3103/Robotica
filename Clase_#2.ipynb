{
 "cells": [
  {
   "cell_type": "markdown",
   "id": "3abe234c",
   "metadata": {},
   "source": [
    " # Ecuación del Pendulo Simple\n"
   ]
  },
  {
   "cell_type": "markdown",
   "id": "8137fe18",
   "metadata": {},
   "source": []
  },
  {
   "cell_type": "markdown",
   "id": "4a12e63b",
   "metadata": {},
   "source": []
  },
  {
   "cell_type": "code",
   "execution_count": 3,
   "id": "611ecef7",
   "metadata": {},
   "outputs": [
    {
     "data": {
      "text/plain": [
       "16"
      ]
     },
     "execution_count": 3,
     "metadata": {},
     "output_type": "execute_result"
    }
   ],
   "source": [
    "4**2"
   ]
  },
  {
   "cell_type": "code",
   "execution_count": 3,
   "id": "b32c953a",
   "metadata": {},
   "outputs": [
    {
     "name": "stdout",
     "output_type": "stream",
     "text": [
      "5\n",
      "hola\n"
     ]
    }
   ],
   "source": [
    "x=5\n",
    "\n",
    "print(x)\n",
    "\n",
    "x=\"hola\"\n",
    "\n",
    "print(x)"
   ]
  },
  {
   "cell_type": "code",
   "execution_count": 4,
   "id": "62f81cfd",
   "metadata": {},
   "outputs": [
    {
     "data": {
      "text/plain": [
       "'holaholaholaholaholaholahola'"
      ]
     },
     "execution_count": 4,
     "metadata": {},
     "output_type": "execute_result"
    }
   ],
   "source": [
    "x = \"hola\"\n",
    "y=7\n",
    "\n",
    "x*y\n"
   ]
  },
  {
   "cell_type": "code",
   "execution_count": 5,
   "id": "72f2d798",
   "metadata": {},
   "outputs": [
    {
     "name": "stdout",
     "output_type": "stream",
     "text": [
      "h\n",
      "o\n",
      "l\n",
      "a\n",
      " \n",
      "m\n",
      "i\n",
      " \n",
      "n\n",
      "o\n",
      "m\n",
      "b\n",
      "r\n",
      "e\n",
      " \n",
      "e\n",
      "s\n",
      " \n",
      "A\n",
      "l\n",
      "o\n",
      "n\n",
      "s\n",
      "o\n"
     ]
    }
   ],
   "source": [
    "for a in (\"hola mi nombre es Alonso\"):\n",
    "    print(a)\n"
   ]
  },
  {
   "cell_type": "code",
   "execution_count": 8,
   "id": "9e8da7c9",
   "metadata": {},
   "outputs": [
    {
     "name": "stdout",
     "output_type": "stream",
     "text": [
      "El número es par\n"
     ]
    }
   ],
   "source": [
    "# Programa para determinar si un número es par o impar\n",
    "\n",
    "numero = int(input(\"Ingresa un número: \"))\n",
    "\n",
    "if numero % 2 == 0:\n",
    "    print(\"El número es par\")\n",
    "else:\n",
    "    print(\"El número es impar\")"
   ]
  },
  {
   "cell_type": "code",
   "execution_count": null,
   "id": "85be50b7",
   "metadata": {},
   "outputs": [],
   "source": []
  }
 ],
 "metadata": {
  "kernelspec": {
   "display_name": "base",
   "language": "python",
   "name": "python3"
  },
  "language_info": {
   "codemirror_mode": {
    "name": "ipython",
    "version": 3
   },
   "file_extension": ".py",
   "mimetype": "text/x-python",
   "name": "python",
   "nbconvert_exporter": "python",
   "pygments_lexer": "ipython3",
   "version": "3.13.5"
  }
 },
 "nbformat": 4,
 "nbformat_minor": 5
}
