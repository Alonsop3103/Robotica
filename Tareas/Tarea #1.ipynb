{
 "cells": [
  {
   "cell_type": "markdown",
   "id": "98c363df",
   "metadata": {},
   "source": []
  },
  {
   "cell_type": "markdown",
   "id": "318a019d",
   "metadata": {},
   "source": [
    "\n",
    "# Ejercicios de Introducción a Python\n",
    "\n",
    "## Tipos de Datos Básicos y Estructuras de Control\n"
   ]
  },
  {
   "cell_type": "markdown",
   "id": "55a99608",
   "metadata": {},
   "source": [
    "### Ejercicio 1: Calculadora de Propinas\n",
    "\n",
    "Escribe un programa que solicite al usuario el monto de una cuenta (float) y el porcentaje de propina que desea dar (int). El programa debe calcular y mostrar la propina y el total a pagar.\n",
    "\n",
    "**Ejemplo de salida:**\n",
    "\n",
    "```\n",
    "Ingresa el monto de la cuenta: 150.75\n",
    "Ingresa el porcentaje de propina: 15\n",
    "Propina: $22.61\n",
    "Total a pagar: $173.36\n",
    "```"
   ]
  },
  {
   "cell_type": "code",
   "execution_count": 2,
   "id": "db2b27cf",
   "metadata": {},
   "outputs": [
    {
     "ename": "ValueError",
     "evalue": "could not convert string to float: ''",
     "output_type": "error",
     "traceback": [
      "\u001b[1;31m---------------------------------------------------------------------------\u001b[0m",
      "\u001b[1;31mValueError\u001b[0m                                Traceback (most recent call last)",
      "Cell \u001b[1;32mIn[2], line 1\u001b[0m\n\u001b[1;32m----> 1\u001b[0m cuenta \u001b[38;5;241m=\u001b[39m \u001b[38;5;28mfloat\u001b[39m(\u001b[38;5;28minput\u001b[39m(\u001b[38;5;124m\"\u001b[39m\u001b[38;5;124mIngresa el monto de la cuenta: \u001b[39m\u001b[38;5;124m\"\u001b[39m))\n\u001b[0;32m      2\u001b[0m porcentaje \u001b[38;5;241m=\u001b[39m \u001b[38;5;28mint\u001b[39m(\u001b[38;5;28minput\u001b[39m(\u001b[38;5;124m\"\u001b[39m\u001b[38;5;124mIngresa el porcentaje de propina: \u001b[39m\u001b[38;5;124m\"\u001b[39m))\n\u001b[0;32m      3\u001b[0m propina \u001b[38;5;241m=\u001b[39m (cuenta \u001b[38;5;241m*\u001b[39m porcentaje) \u001b[38;5;241m/\u001b[39m \u001b[38;5;241m100\u001b[39m\n",
      "\u001b[1;31mValueError\u001b[0m: could not convert string to float: ''"
     ]
    }
   ],
   "source": [
    "cuenta = float(input(\"Ingresa el monto de la cuenta: \"))\n",
    "porcentaje = int(input(\"Ingresa el porcentaje de propina: \"))\n",
    "propina = (cuenta * porcentaje) / 100\n",
    "total = cuenta + propina\n",
    "print(f\"Propina: ${propina:.2f}\")\n",
    "print(f\"Total a pagar es: ${total:.2f}\")"
   ]
  },
  {
   "cell_type": "markdown",
   "id": "02072795",
   "metadata": {},
   "source": [
    "### Ejercicio 2: Contador de Vocales\n",
    "\n",
    "Crea un programa que pida una palabra al usuario (str) y use un ciclo `for` para contar cuántas vocales (a, e, i, o, u) contiene la palabra. Considera tanto mayúsculas como minúsculas.\n",
    "\n",
    "**Ejemplo de salida:**\n",
    "\n",
    "```\n",
    "Ingresa una palabra: Python\n",
    "La palabra \"Python\" tiene 1 vocal(es)\n",
    "```"
   ]
  },
  {
   "cell_type": "code",
   "execution_count": null,
   "id": "411d67e1",
   "metadata": {},
   "outputs": [
    {
     "name": "stdout",
     "output_type": "stream",
     "text": [
      "La palabra \"alonso\" tiene 3 vocal(es)\n"
     ]
    }
   ],
   "source": [
    "palabra = input(\"Ingresa una palabra: \")\n",
    "vocales = \"aeiouAEIOU\"\n",
    "cont = 0\n",
    "\n",
    "for letra in palabra:\n",
    "    if letra in vocales:\n",
    "        cont += 1\n",
    "\n",
    "print(f'La palabra \"{palabra}\" tiene {cont} vocal(es)')\n"
   ]
  },
  {
   "cell_type": "markdown",
   "id": "833c51de",
   "metadata": {},
   "source": [
    "### Ejercicio 3: Tabla de Multiplicar\n",
    "\n",
    "Solicita al usuario un número entero (int) y usa un ciclo `for` para mostrar su tabla de multiplicar del 1 al 10.\n",
    "\n",
    "**Ejemplo de salida:**\n",
    "\n",
    "```\n",
    "Ingresa un número: 7\n",
    "7 x 1 = 7\n",
    "7 x 2 = 14\n",
    "...\n",
    "7 x 10 = 70\n",
    "```"
   ]
  },
  {
   "cell_type": "code",
   "execution_count": null,
   "id": "8d263b03",
   "metadata": {},
   "outputs": [
    {
     "name": "stdout",
     "output_type": "stream",
     "text": [
      "\n",
      "Tabla de multiplicar del 12\n",
      "12 x 1 = 12\n",
      "12 x 2 = 24\n",
      "12 x 3 = 36\n",
      "12 x 4 = 48\n",
      "12 x 5 = 60\n",
      "12 x 6 = 72\n",
      "12 x 7 = 84\n",
      "12 x 8 = 96\n",
      "12 x 9 = 108\n",
      "12 x 10 = 120\n"
     ]
    }
   ],
   "source": [
    "numero = int(input(\"Ingresa un número: \"))\n",
    "\n",
    "tabla = [f\"{numero} x {i} = {numero * i}\" for i in range(1, 11)]\n",
    "\n",
    "print(f\"\\nTabla de multiplicar del {numero}\")\n",
    "print(\"\\n\".join(tabla))\n"
   ]
  },
  {
   "cell_type": "markdown",
   "id": "7815ef4f",
   "metadata": {},
   "source": [
    "### Ejercicio 4: Validador de Contraseña Simple\n",
    "\n",
    "Escribe un programa que pida una contraseña al usuario y use un ciclo `while` para seguir pidiendo la contraseña hasta que tenga al menos 8 caracteres. Al final, muestra la longitud de la contraseña aceptada.\n",
    "\n",
    "**Ejemplo de salida:**\n",
    "\n",
    "```\n",
    "Ingresa tu contraseña: 123\n",
    "Muy corta. Ingresa tu contraseña: 12345678\n",
    "Contraseña aceptada. Longitud: 8 caracteres"
   ]
  },
  {
   "cell_type": "code",
   "execution_count": null,
   "id": "11b6b91a",
   "metadata": {},
   "outputs": [
    {
     "name": "stdout",
     "output_type": "stream",
     "text": [
      "Intento 1: Contraseña demasiado corta (0 caracteres).\n",
      "\n",
      "Contraseña aceptada ✅\n",
      "Longitud: 8 caracteres\n",
      "Contraseña ingresada: ********\n"
     ]
    }
   ],
   "source": [
    "contraseña = input(\"Ingresa tu contraseña: \")\n",
    "intentos = 1\n",
    "\n",
    "while len(contraseña) < 8:\n",
    "    print(f\"Intento {intentos}: Contraseña demasiado corta ({len(contraseña)} caracteres).\")\n",
    "    contraseña = input(\"Vuelve a intentarlo: \")\n",
    "    intentos += 1\n",
    "\n",
    "print(f\"\\nContraseña aceptada ✅\")\n",
    "print(f\"Longitud: {len(contraseña)} caracteres\")\n",
    "print(f\"Contraseña ingresada: {'*' * len(contraseña)}\")\n",
    "\n"
   ]
  },
  {
   "cell_type": "markdown",
   "id": "1c894a58",
   "metadata": {},
   "source": []
  },
  {
   "cell_type": "markdown",
   "id": "4f99b460",
   "metadata": {},
   "source": [
    "### Ejercicio 5: Suma de Números Pares\n",
    "\n",
    "Pide al usuario un número entero (int) y usa un ciclo `for` para calcular la suma de todos los números pares desde 2 hasta ese número (inclusive).\n",
    "\n",
    "**Ejemplo de salida:**\n",
    "\n",
    "```\n",
    "Ingresa un número: 10\n",
    "La suma de números pares desde 2 hasta 10 es: 30\n",
    "(2 + 4 + 6 + 8 + 10 = 30)\n",
    "```"
   ]
  },
  {
   "cell_type": "code",
   "execution_count": 4,
   "id": "f6140d50",
   "metadata": {},
   "outputs": [
    {
     "name": "stdout",
     "output_type": "stream",
     "text": [
      "La suma de números pares desde 2 hasta 555 es: 77006\n",
      "(2 + 4 + 6 + 8 + 10 + 12 + 14 + 16 + 18 + 20 + 22 + 24 + 26 + 28 + 30 + 32 + 34 + 36 + 38 + 40 + 42 + 44 + 46 + 48 + 50 + 52 + 54 + 56 + 58 + 60 + 62 + 64 + 66 + 68 + 70 + 72 + 74 + 76 + 78 + 80 + 82 + 84 + 86 + 88 + 90 + 92 + 94 + 96 + 98 + 100 + 102 + 104 + 106 + 108 + 110 + 112 + 114 + 116 + 118 + 120 + 122 + 124 + 126 + 128 + 130 + 132 + 134 + 136 + 138 + 140 + 142 + 144 + 146 + 148 + 150 + 152 + 154 + 156 + 158 + 160 + 162 + 164 + 166 + 168 + 170 + 172 + 174 + 176 + 178 + 180 + 182 + 184 + 186 + 188 + 190 + 192 + 194 + 196 + 198 + 200 + 202 + 204 + 206 + 208 + 210 + 212 + 214 + 216 + 218 + 220 + 222 + 224 + 226 + 228 + 230 + 232 + 234 + 236 + 238 + 240 + 242 + 244 + 246 + 248 + 250 + 252 + 254 + 256 + 258 + 260 + 262 + 264 + 266 + 268 + 270 + 272 + 274 + 276 + 278 + 280 + 282 + 284 + 286 + 288 + 290 + 292 + 294 + 296 + 298 + 300 + 302 + 304 + 306 + 308 + 310 + 312 + 314 + 316 + 318 + 320 + 322 + 324 + 326 + 328 + 330 + 332 + 334 + 336 + 338 + 340 + 342 + 344 + 346 + 348 + 350 + 352 + 354 + 356 + 358 + 360 + 362 + 364 + 366 + 368 + 370 + 372 + 374 + 376 + 378 + 380 + 382 + 384 + 386 + 388 + 390 + 392 + 394 + 396 + 398 + 400 + 402 + 404 + 406 + 408 + 410 + 412 + 414 + 416 + 418 + 420 + 422 + 424 + 426 + 428 + 430 + 432 + 434 + 436 + 438 + 440 + 442 + 444 + 446 + 448 + 450 + 452 + 454 + 456 + 458 + 460 + 462 + 464 + 466 + 468 + 470 + 472 + 474 + 476 + 478 + 480 + 482 + 484 + 486 + 488 + 490 + 492 + 494 + 496 + 498 + 500 + 502 + 504 + 506 + 508 + 510 + 512 + 514 + 516 + 518 + 520 + 522 + 524 + 526 + 528 + 530 + 532 + 534 + 536 + 538 + 540 + 542 + 544 + 546 + 548 + 550 + 552 + 554 = 77006)\n"
     ]
    }
   ],
   "source": [
    "numero = int(input(\"Ingresa un número: \"))\n",
    "\n",
    "suma = 0\n",
    "terminos = []\n",
    "\n",
    "for i in range(2, numero + 1, 2):\n",
    "    suma += i\n",
    "    terminos.append(str(i))\n",
    "\n",
    "print(f\"La suma de números pares desde 2 hasta {numero} es: {suma}\")\n",
    "print(f\"({' + '.join(terminos)} = {suma})\")\n"
   ]
  },
  {
   "cell_type": "markdown",
   "id": "a1490eab",
   "metadata": {},
   "source": [
    "### Ejercicio 6: Generador de Patrones de Texto\n",
    "\n",
    "Solicita al usuario un carácter (str) y un número de filas (int). Usa ciclos `for` anidados para crear un patrón triangular donde cada fila tiene un carácter más que la anterior.\n",
    "\n",
    "**Ejemplo de salida:**\n",
    "\n",
    "```\n",
    "Ingresa un carácter: *\n",
    "Ingresa número de filas: 4\n",
    "*\n",
    "**\n",
    "***\n",
    "****\n",
    "```"
   ]
  },
  {
   "cell_type": "code",
   "execution_count": 5,
   "id": "7670c429",
   "metadata": {},
   "outputs": [
    {
     "name": "stdout",
     "output_type": "stream",
     "text": [
      "e\n",
      "ee\n",
      "eee\n",
      "eeee\n",
      "eeeee\n",
      "eeeeee\n",
      "eeeeeee\n",
      "eeeeeeee\n",
      "eeeeeeeee\n",
      "eeeeeeeeee\n",
      "eeeeeeeeeee\n",
      "eeeeeeeeeeee\n",
      "eeeeeeeeeeeee\n",
      "eeeeeeeeeeeeee\n",
      "eeeeeeeeeeeeeee\n",
      "eeeeeeeeeeeeeeee\n",
      "eeeeeeeeeeeeeeeee\n",
      "eeeeeeeeeeeeeeeeee\n",
      "eeeeeeeeeeeeeeeeeee\n",
      "eeeeeeeeeeeeeeeeeeee\n",
      "eeeeeeeeeeeeeeeeeeeee\n",
      "eeeeeeeeeeeeeeeeeeeeee\n",
      "eeeeeeeeeeeeeeeeeeeeeee\n"
     ]
    }
   ],
   "source": [
    "caracter = input(\"Ingresa un carácter: \")\n",
    "filas = int(input(\"Ingresa número de filas: \"))\n",
    "\n",
    "for i in range(1, filas + 1):\n",
    "    print(caracter * i)\n"
   ]
  },
  {
   "cell_type": "markdown",
   "id": "12546fb0",
   "metadata": {},
   "source": [
    "### Ejercicio 7: Calculadora de Promedio con Validación\n",
    "\n",
    "Usa un ciclo `while` para pedir al usuario que ingrese números decimales (float) uno por uno. El programa debe terminar cuando el usuario ingrese -1. Al final, calcula y muestra el promedio de todos los números ingresados (sin contar el -1).\n",
    "\n",
    "**Ejemplo de salida:**\n",
    "\n",
    "```\n",
    "Ingresa un número (-1 para terminar): 8.5\n",
    "Ingresa un número (-1 para terminar): 9.2\n",
    "Ingresa un número (-1 para terminar): 7.8\n",
    "Ingresa un número (-1 para terminar): -1\n",
    "Promedio: 8.50\n",
    "```"
   ]
  },
  {
   "cell_type": "code",
   "execution_count": 10,
   "id": "7889a335",
   "metadata": {},
   "outputs": [
    {
     "name": "stdout",
     "output_type": "stream",
     "text": [
      "Promedio: 5.50\n"
     ]
    }
   ],
   "source": [
    "suma = 0\n",
    "contador = 0\n",
    "\n",
    "while True:\n",
    "    numero = float(input(\"Ingresa un número (-1 para terminar): \"))\n",
    "    if numero == -1:\n",
    "        break\n",
    "    suma += numero\n",
    "    contador += 1\n",
    "\n",
    "if contador > 0:\n",
    "    promedio = suma / contador\n",
    "    print(f\"Promedio: {promedio:.2f}\")\n",
    "else:\n",
    "    print(\"No ingresaste ningún número válido.\")\n"
   ]
  },
  {
   "cell_type": "markdown",
   "id": "64ea8eda",
   "metadata": {},
   "source": [
    "### Ejercicio 8: Inversor de Palabras\n",
    "\n",
    "Pide al usuario una frase (str) y usa un ciclo `for` para mostrar cada palabra de la frase al revés. Las palabras se separan por espacios.\n",
    "\n",
    "**Ejemplo de salida:**\n",
    "\n",
    "```\n",
    "Ingresa una frase: Hola mundo Python\n",
    "aloH\n",
    "odnum\n",
    "nohtyP\n",
    "```"
   ]
  },
  {
   "cell_type": "code",
   "execution_count": 6,
   "id": "2ad542af",
   "metadata": {},
   "outputs": [
    {
     "name": "stdout",
     "output_type": "stream",
     "text": [
      "EM\n",
      "atsug\n",
      "le\n",
      "letsap\n"
     ]
    }
   ],
   "source": [
    "frase = input(\"Ingresa una frase: \")\n",
    "\n",
    "palabras = frase.split()\n",
    "\n",
    "for palabra in palabras:\n",
    "    print(palabra[::-1])\n"
   ]
  },
  {
   "cell_type": "markdown",
   "id": "eb5aa796",
   "metadata": {},
   "source": [
    "### Ejercicio 9: Juego de Adivinanza Simple\n",
    "\n",
    "Crea un juego donde el programa \"piensa\" en un número del 1 al 20 (puedes usar el número 15 fijo). Usa un ciclo `while` para que el usuario siga adivinando hasta que acierte. Cuenta y muestra el número de intentos.\n",
    "\n",
    "**Ejemplo de salida:**\n",
    "\n",
    "```\n",
    "Adivina el número (1-20): 10\n",
    "Muy bajo. Adivina el número (1-20): 18\n",
    "Muy alto. Adivina el número (1-20): 15\n",
    "¡Correcto! Lo adivinaste en 3 intentos.\n",
    "```"
   ]
  },
  {
   "cell_type": "code",
   "execution_count": 7,
   "id": "bec2dd13",
   "metadata": {},
   "outputs": [
    {
     "name": "stdout",
     "output_type": "stream",
     "text": [
      "Muy bajo.\n",
      "Muy alto.\n",
      "Muy alto.\n",
      "Muy bajo.\n",
      "¡Correcto! Lo adivinaste en 5 intento(s).\n"
     ]
    }
   ],
   "source": [
    "numero_secreto = 15\n",
    "intentos = 0\n",
    "\n",
    "while True:\n",
    "    intento = int(input(\"Adivina el número (1-20): \"))\n",
    "    intentos += 1\n",
    "\n",
    "    if intento < numero_secreto:\n",
    "        print(\"Muy bajo.\")\n",
    "    elif intento > numero_secreto:\n",
    "        print(\"Muy alto.\")\n",
    "    else:\n",
    "        print(f\"¡Correcto! Lo adivinaste en {intentos} intento(s).\")\n",
    "        break\n"
   ]
  },
  {
   "cell_type": "markdown",
   "id": "c4135b62",
   "metadata": {},
   "source": [
    "### Ejercicio 10: Análisis de Texto\n",
    "\n",
    "Pide al usuario que ingrese un texto (str) y realiza el siguiente análisis usando ciclos:\n",
    "\n",
    "- Cuenta el número total de caracteres\n",
    "- Cuenta cuántos espacios hay\n",
    "- Cuenta cuántos dígitos numéricos hay\n",
    "- Muestra la primera y última letra del texto\n",
    "\n",
    "**Ejemplo de salida:**\n",
    "\n",
    "```\n",
    "Ingresa un texto: Hola mundo 123\n",
    "Análisis del texto:\n",
    "- Caracteres totales: 13\n",
    "- Espacios: 2\n",
    "- Dígitos numéricos: 3\n",
    "- Primera letra: H\n",
    "- Última letra: 3\n",
    "```"
   ]
  },
  {
   "cell_type": "code",
   "execution_count": 8,
   "id": "a17e45e5",
   "metadata": {},
   "outputs": [
    {
     "name": "stdout",
     "output_type": "stream",
     "text": [
      "Análisis del texto:\n",
      "- Caracteres totales: 63\n",
      "- Espacios: 8\n",
      "- Dígitos numéricos: 0\n",
      "- Primera letra: a\n",
      "- Última letra: a\n"
     ]
    }
   ],
   "source": [
    "texto = input(\"Ingresa un texto: \")\n",
    "\n",
    "caracteres = len(texto)\n",
    "espacios = 0\n",
    "digitos = 0\n",
    "\n",
    "for c in texto:\n",
    "    if c == \" \":\n",
    "        espacios += 1\n",
    "    elif c.isdigit():\n",
    "        digitos += 1\n",
    "\n",
    "print(\"Análisis del texto:\")\n",
    "print(f\"- Caracteres totales: {caracteres}\")\n",
    "print(f\"- Espacios: {espacios}\")\n",
    "print(f\"- Dígitos numéricos: {digitos}\")\n",
    "print(f\"- Primera letra: {texto[0]}\")\n",
    "print(f\"- Última letra: {texto[-1]}\")\n"
   ]
  }
 ],
 "metadata": {
  "kernelspec": {
   "display_name": "base",
   "language": "python",
   "name": "python3"
  },
  "language_info": {
   "codemirror_mode": {
    "name": "ipython",
    "version": 3
   },
   "file_extension": ".py",
   "mimetype": "text/x-python",
   "name": "python",
   "nbconvert_exporter": "python",
   "pygments_lexer": "ipython3",
   "version": "3.13.5"
  }
 },
 "nbformat": 4,
 "nbformat_minor": 5
}
