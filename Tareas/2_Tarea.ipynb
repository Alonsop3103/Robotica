{
 "cells": [
  {
   "cell_type": "markdown",
   "id": "a1d6ac04",
   "metadata": {},
   "source": [
    "# Tarea #2\n",
    "\n",
    "## Tipos Compuestos: REto de la ruta más corta\n",
    "\n",
    "\n",
    "Dada una matriz que representa un mapa con celdas libres (0) y obstáculos (1),\n",
    "\n",
    "diseña un algoritmo que encuentre la ruta más corta desde una celda de inicio\n",
    "\n",
    "hasta una celda objetivo. La ruta debe evitar los obstáculos y moverse solo\n",
    "\n",
    "en direcciones permitidas (por ejemplo, arriba, abajo, izquierda, derecha).\n",
    "\n",
    "El resultado debe ser una lista de coordenadas que representan el camino más corto."
   ]
  },
  {
   "cell_type": "markdown",
   "id": "49f3c3b5",
   "metadata": {},
   "source": [
    "Ejercicio #1: Ruta Sencilla"
   ]
  },
  {
   "cell_type": "code",
   "execution_count": 18,
   "id": "fea615b3",
   "metadata": {},
   "outputs": [
    {
     "name": "stdout",
     "output_type": "stream",
     "text": [
      "Matriz original:\n",
      "[0, 0, 0, 0, 1]\n",
      "[0, 1, 1, 0, 1]\n",
      "[0, 0, 0, 0, 0]\n",
      "[0, 1, 0, 1, 0]\n",
      "[0, 0, 0, 0, 0]\n",
      "\n",
      "Matriz con el camino marcado (5):\n",
      "[5, 0, 0, 0, 1]\n",
      "[5, 1, 1, 0, 1]\n",
      "[5, 0, 0, 0, 0]\n",
      "[5, 1, 0, 1, 0]\n",
      "[5, 5, 5, 5, 5]\n",
      "\n",
      "Camino más corto: [(0, 0), (1, 0), (2, 0), (3, 0), (4, 0), (4, 1), (4, 2), (4, 3), (4, 4)]\n"
     ]
    }
   ],
   "source": [
    "from collections import deque\n",
    "\n",
    "def shortest_path(grid, start, goal):\n",
    "    rows, cols = len(grid), len(grid[0])\n",
    "    queue = deque()\n",
    "    queue.append((start, [start]))\n",
    "    visited = set()\n",
    "    visited.add(start)\n",
    "    directions = [(-1,0), (1,0), (0,-1), (0,1)]  # arriba, abajo, izquierda, derecha\n",
    "\n",
    "    while queue:\n",
    "        (x, y), path = queue.popleft()\n",
    "        if (x, y) == goal:\n",
    "            return path\n",
    "        for dx, dy in directions:\n",
    "            nx, ny = x + dx, y + dy\n",
    "            if (0 <= nx < rows and 0 <= ny < cols and\n",
    "                grid[nx][ny] == 0 and (nx, ny) not in visited):\n",
    "                queue.append(((nx, ny), path + [(nx, ny)]))\n",
    "                visited.add((nx, ny))\n",
    "    return None  # No hay camino\n",
    "\n",
    "# Ejemplo de uso:\n",
    "grid = [\n",
    "    [0, 0, 0, 0, 1],\n",
    "    [0, 1, 1, 0, 1],\n",
    "    [0, 0, 0, 0, 0],\n",
    "    [0, 1, 0, 1, 0],\n",
    "    [0, 0, 0, 0, 0]\n",
    "]\n",
    "start = (0, 0)\n",
    "goal = (4, 4)\n",
    "\n",
    "path = shortest_path(grid, start, goal)\n",
    "\n",
    "# Imprimir la matriz original\n",
    "print(\"Matriz original:\")\n",
    "for fila in grid:\n",
    "    print(fila)\n",
    "\n",
    "# Crear una copia y marcar el camino con 5\n",
    "grid_path = [fila[:] for fila in grid]\n",
    "if path:\n",
    "    for x, y in path:\n",
    "        grid_path[x][y] = 5\n",
    "\n",
    "print(\"\\nMatriz con el camino marcado (5):\")\n",
    "for fila in grid_path:\n",
    "    print(fila)\n",
    "\n",
    "print(\"\\nCamino más corto:\", path)"
   ]
  },
  {
   "cell_type": "markdown",
   "id": "639c0283",
   "metadata": {},
   "source": [
    "Ejercicio 2: Ruta Compleja"
   ]
  },
  {
   "cell_type": "code",
   "execution_count": 19,
   "id": "d8d338d1",
   "metadata": {},
   "outputs": [
    {
     "name": "stdout",
     "output_type": "stream",
     "text": [
      "Matriz original:\n",
      "[0, 0, 0, 0, 1]\n",
      "[0, 1, 1, 0, 1]\n",
      "[1, 0, 0, 0, 0]\n",
      "[0, 1, 0, 1, 0]\n",
      "[0, 0, 0, 0, 0]\n",
      "\n",
      "Matriz con el camino marcado (5):\n",
      "[5, 5, 5, 5, 1]\n",
      "[0, 1, 1, 5, 1]\n",
      "[1, 0, 0, 5, 5]\n",
      "[0, 1, 0, 1, 5]\n",
      "[0, 0, 0, 0, 5]\n",
      "\n",
      "Camino más corto: [(0, 0), (0, 1), (0, 2), (0, 3), (1, 3), (2, 3), (2, 4), (3, 4), (4, 4)]\n"
     ]
    }
   ],
   "source": [
    "from collections import deque\n",
    "\n",
    "def shortest_path(grid, start, goal):\n",
    "    rows, cols = len(grid), len(grid[0])\n",
    "    queue = deque()\n",
    "    queue.append((start, [start]))\n",
    "    visited = set()\n",
    "    visited.add(start)\n",
    "    directions = [(-1,0), (1,0), (0,-1), (0,1)]  # arriba, abajo, izquierda, derecha\n",
    "\n",
    "    while queue:\n",
    "        (x, y), path = queue.popleft()\n",
    "        if (x, y) == goal:\n",
    "            return path\n",
    "        for dx, dy in directions:\n",
    "            nx, ny = x + dx, y + dy\n",
    "            if (0 <= nx < rows and 0 <= ny < cols and\n",
    "                grid[nx][ny] == 0 and (nx, ny) not in visited):\n",
    "                queue.append(((nx, ny), path + [(nx, ny)]))\n",
    "                visited.add((nx, ny))\n",
    "    return None  # No hay camino\n",
    "\n",
    "# Ejemplo de uso:\n",
    "grid = [\n",
    "    [0, 0, 0, 0, 1],\n",
    "    [0, 1, 1, 0, 1],\n",
    "    [1, 0, 0, 0, 0],\n",
    "    [0, 1, 0, 1, 0],\n",
    "    [0, 0, 0, 0, 0]\n",
    "]\n",
    "start = (0, 0)\n",
    "goal = (4, 4)\n",
    "\n",
    "path = shortest_path(grid, start, goal)\n",
    "\n",
    "# Imprimir la matriz original\n",
    "print(\"Matriz original:\")\n",
    "for fila in grid:\n",
    "    print(fila)\n",
    "\n",
    "# Crear una copia y marcar el camino con 5\n",
    "grid_path = [fila[:] for fila in grid]\n",
    "if path:\n",
    "    for x, y in path:\n",
    "        grid_path[x][y] = 5\n",
    "\n",
    "print(\"\\nMatriz con el camino marcado (5):\")\n",
    "for fila in grid_path:\n",
    "    print(fila)\n",
    "\n",
    "print(\"\\nCamino más corto:\", path)"
   ]
  }
 ],
 "metadata": {
  "kernelspec": {
   "display_name": "base",
   "language": "python",
   "name": "python3"
  },
  "language_info": {
   "codemirror_mode": {
    "name": "ipython",
    "version": 3
   },
   "file_extension": ".py",
   "mimetype": "text/x-python",
   "name": "python",
   "nbconvert_exporter": "python",
   "pygments_lexer": "ipython3",
   "version": "3.13.5"
  }
 },
 "nbformat": 4,
 "nbformat_minor": 5
}
